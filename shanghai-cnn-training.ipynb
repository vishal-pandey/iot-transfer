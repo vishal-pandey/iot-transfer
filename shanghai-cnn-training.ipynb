{
  "nbformat": 4,
  "nbformat_minor": 0,
  "metadata": {
    "colab": {
      "name": "start.ipynb",
      "provenance": [],
      "authorship_tag": "ABX9TyPwPjWF/oRXNVVEe3kuK8MT",
      "include_colab_link": true
    },
    "kernelspec": {
      "name": "python3",
      "display_name": "Python 3"
    }
  },
  "cells": [
    {
      "cell_type": "markdown",
      "metadata": {
        "id": "view-in-github",
        "colab_type": "text"
      },
      "source": [
        "<a href=\"https://colab.research.google.com/github/vishal-pandey/iot-transfer/blob/master/shanghai-cnn-training.ipynb\" target=\"_parent\"><img src=\"https://colab.research.google.com/assets/colab-badge.svg\" alt=\"Open In Colab\"/></a>"
      ]
    },
    {
      "cell_type": "code",
      "metadata": {
        "id": "6Ocx9UgSb_2e",
        "colab_type": "code",
        "colab": {}
      },
      "source": [
        "URL_shanghai = \"https://github.com/vishal-pandey/iot-transfer/raw/master/pm25_shanghai.csv\""
      ],
      "execution_count": 0,
      "outputs": []
    },
    {
      "cell_type": "code",
      "metadata": {
        "id": "ylgq1rsjCG-K",
        "colab_type": "code",
        "colab": {}
      },
      "source": [
        "import numpy as np\n",
        "import pandas as pd\n",
        "import matplotlib.pyplot as plt\n",
        "from sklearn.preprocessing import StandardScaler\n",
        "from sklearn.model_selection import train_test_split"
      ],
      "execution_count": 0,
      "outputs": []
    },
    {
      "cell_type": "code",
      "metadata": {
        "id": "pRcLsWhwCK73",
        "colab_type": "code",
        "colab": {}
      },
      "source": [
        "df_shanghai = pd.read_csv(URL_shanghai)"
      ],
      "execution_count": 0,
      "outputs": []
    },
    {
      "cell_type": "code",
      "metadata": {
        "id": "KqIMCpSoCRlH",
        "colab_type": "code",
        "colab": {}
      },
      "source": [
        "pm25_shanghai = df_shanghai.iloc[:, 0].values"
      ],
      "execution_count": 0,
      "outputs": []
    },
    {
      "cell_type": "code",
      "metadata": {
        "id": "oMvrbZ8-CWE2",
        "colab_type": "code",
        "colab": {}
      },
      "source": [
        "pm25_shanghai = pm25_shanghai.reshape(-1, 1)"
      ],
      "execution_count": 0,
      "outputs": []
    },
    {
      "cell_type": "code",
      "metadata": {
        "id": "4nzoKs_PCbi2",
        "colab_type": "code",
        "colab": {}
      },
      "source": [
        "scaler_shanghai = StandardScaler()\n",
        "scaler_shanghai.fit(pm25_shanghai)\n",
        "pm25_shanghai = scaler_shanghai.transform(pm25_shanghai)"
      ],
      "execution_count": 0,
      "outputs": []
    },
    {
      "cell_type": "code",
      "metadata": {
        "id": "W0LVchbpCkKX",
        "colab_type": "code",
        "colab": {}
      },
      "source": [
        "N = 20\n",
        "O = 5\n",
        "P = 20"
      ],
      "execution_count": 0,
      "outputs": []
    },
    {
      "cell_type": "code",
      "metadata": {
        "id": "6ZP4YZXECoK3",
        "colab_type": "code",
        "colab": {}
      },
      "source": [
        "X_shanghai = []\n",
        "y_shanghai = []\n",
        "\n",
        "for i in range(len(pm25_shanghai) - (N + O + P)):\n",
        "  temp = []\n",
        "  temp1 = pm25_shanghai[i : i+N]\n",
        "  temp2 = [0 for _ in range(O)]\n",
        "  temp3 = pm25_shanghai[i+N+O : i+N+O+P]\n",
        "  X_shanghai.append(np.append(np.append(temp1, temp2), temp3))\n",
        "  y_shanghai.append(pm25_shanghai[i+N : i+N+O].reshape(O))"
      ],
      "execution_count": 0,
      "outputs": []
    },
    {
      "cell_type": "code",
      "metadata": {
        "id": "aSEfpxysCvje",
        "colab_type": "code",
        "colab": {}
      },
      "source": [
        "X_shanghai = np.array(X_shanghai)\n",
        "y_shanghai = np.array(y_shanghai)"
      ],
      "execution_count": 0,
      "outputs": []
    },
    {
      "cell_type": "code",
      "metadata": {
        "id": "bqIFNXRNCyWP",
        "colab_type": "code",
        "colab": {
          "base_uri": "https://localhost:8080/",
          "height": 51
        },
        "outputId": "c4fe4d85-1776-4a3a-ae7b-09b5777cdd68"
      },
      "source": [
        "print(X_shanghai.shape)\n",
        "print(y_shanghai.shape)"
      ],
      "execution_count": 11,
      "outputs": [
        {
          "output_type": "stream",
          "text": [
            "(555, 45)\n",
            "(555, 5)\n"
          ],
          "name": "stdout"
        }
      ]
    },
    {
      "cell_type": "code",
      "metadata": {
        "id": "rtN9Rt4oC06O",
        "colab_type": "code",
        "colab": {
          "base_uri": "https://localhost:8080/",
          "height": 265
        },
        "outputId": "bcaa9ecc-846f-4f5c-d495-3544c8832f78"
      },
      "source": [
        "plt.plot(pm25_shanghai[:500])\n",
        "plt.show()"
      ],
      "execution_count": 13,
      "outputs": [
        {
          "output_type": "display_data",
          "data": {
            "image/png": "[encoded data removed]",
            "text/plain": [
              "<Figure size 432x288 with 1 Axes>"
            ]
          },
          "metadata": {
            "tags": []
          }
        }
      ]
    },
    {
      "cell_type": "code",
      "metadata": {
        "id": "gSiUBapoC4x-",
        "colab_type": "code",
        "colab": {}
      },
      "source": [
        "X_shanghai_train, X_shanghai_test, y_shanghai_train, y_shanghai_test = train_test_split(X_shanghai, y_shanghai)"
      ],
      "execution_count": 0,
      "outputs": []
    },
    {
      "cell_type": "code",
      "metadata": {
        "id": "7zxHHioHC9ee",
        "colab_type": "code",
        "colab": {}
      },
      "source": [
        "X_shanghai_train = X_shanghai_train.reshape(X_shanghai_train.shape[0], -1, 1)\n",
        "X_shanghai_test = X_shanghai_test.reshape(X_shanghai_test.shape[0], -1, 1)"
      ],
      "execution_count": 0,
      "outputs": []
    },
    {
      "cell_type": "code",
      "metadata": {
        "id": "QMuOmxgGDB4G",
        "colab_type": "code",
        "colab": {
          "base_uri": "https://localhost:8080/",
          "height": 80
        },
        "outputId": "77db5652-d6f2-487f-a078-09513ad46692"
      },
      "source": [
        "from keras.layers import LSTM, Bidirectional, Dropout\n",
        "from keras.models import Sequential\n",
        "from keras.layers import Dense, Flatten\n",
        "from keras.layers.convolutional import Conv1D, Conv2D, MaxPooling1D, MaxPooling2D"
      ],
      "execution_count": 16,
      "outputs": [
        {
          "output_type": "stream",
          "text": [
            "Using TensorFlow backend.\n"
          ],
          "name": "stderr"
        },
        {
          "output_type": "display_data",
          "data": {
            "text/html": [
              "<p style=\"color: red;\">\n",
              "The default version of TensorFlow in Colab will soon switch to TensorFlow 2.x.<br>\n",
              "We recommend you <a href=\"https://www.tensorflow.org/guide/migrate\" target=\"_blank\">upgrade</a> now \n",
              "or ensure your notebook will continue to use TensorFlow 1.x via the <code>%tensorflow_version 1.x</code> magic:\n",
              "<a href=\"https://colab.research.google.com/notebooks/tensorflow_version.ipynb\" target=\"_blank\">more info</a>.</p>\n"
            ],
            "text/plain": [
              "<IPython.core.display.HTML object>"
            ]
          },
          "metadata": {
            "tags": []
          }
        }
      ]
    },
    {
      "cell_type": "code",
      "metadata": {
        "id": "tD2YgG10DEoe",
        "colab_type": "code",
        "colab": {
          "base_uri": "https://localhost:8080/",
          "height": 34
        },
        "outputId": "de4a0586-bc7b-4834-d6e9-3679cd68dbb4"
      },
      "source": [
        "X_shanghai_train.shape"
      ],
      "execution_count": 17,
      "outputs": [
        {
          "output_type": "execute_result",
          "data": {
            "text/plain": [
              "(416, 45, 1)"
            ]
          },
          "metadata": {
            "tags": []
          },
          "execution_count": 17
        }
      ]
    },
    {
      "cell_type": "code",
      "metadata": {
        "id": "A49f5mu5DHRu",
        "colab_type": "code",
        "colab": {
          "base_uri": "https://localhost:8080/",
          "height": 207
        },
        "outputId": "42b55751-0578-46aa-f497-7ad5054996ba"
      },
      "source": [
        "model = Sequential()\n",
        "model.add(Conv1D(filters=64, kernel_size=3, activation='relu', input_shape=(X_shanghai_train.shape[1],X_shanghai_train.shape[2])))\n",
        "model.add(MaxPooling1D())\n",
        "model.add(Conv1D(filters=32, kernel_size=3, activation='relu'))\n",
        "model.add(Flatten())\n",
        "model.add(Dense(50, activation='relu'))\n",
        "model.add(Dense(5))\n",
        "model.compile(optimizer='adam', loss='mse', metrics=['accuracy'])"
      ],
      "execution_count": 18,
      "outputs": [
        {
          "output_type": "stream",
          "text": [
            "WARNING:tensorflow:From /usr/local/lib/python3.6/dist-packages/keras/backend/tensorflow_backend.py:66: The name tf.get_default_graph is deprecated. Please use tf.compat.v1.get_default_graph instead.\n",
            "\n",
            "WARNING:tensorflow:From /usr/local/lib/python3.6/dist-packages/keras/backend/tensorflow_backend.py:541: The name tf.placeholder is deprecated. Please use tf.compat.v1.placeholder instead.\n",
            "\n",
            "WARNING:tensorflow:From /usr/local/lib/python3.6/dist-packages/keras/backend/tensorflow_backend.py:4432: The name tf.random_uniform is deprecated. Please use tf.random.uniform instead.\n",
            "\n",
            "WARNING:tensorflow:From /usr/local/lib/python3.6/dist-packages/keras/backend/tensorflow_backend.py:4267: The name tf.nn.max_pool is deprecated. Please use tf.nn.max_pool2d instead.\n",
            "\n",
            "WARNING:tensorflow:From /usr/local/lib/python3.6/dist-packages/keras/optimizers.py:793: The name tf.train.Optimizer is deprecated. Please use tf.compat.v1.train.Optimizer instead.\n",
            "\n"
          ],
          "name": "stdout"
        }
      ]
    },
    {
      "cell_type": "code",
      "metadata": {
        "id": "EcvuW6sNDOcG",
        "colab_type": "code",
        "colab": {
          "base_uri": "https://localhost:8080/",
          "height": 1000
        },
        "outputId": "b1d6be70-62bc-4e1e-b92b-2430058e2f50"
      },
      "source": [
        "model.fit(X_shanghai_train, y_shanghai_train, epochs=20, validation_data=(X_shanghai_test, y_shanghai_test))"
      ],
      "execution_count": 19,
      "outputs": [
        {
          "output_type": "stream",
          "text": [
            "WARNING:tensorflow:From /usr/local/lib/python3.6/dist-packages/keras/backend/tensorflow_backend.py:1033: The name tf.assign_add is deprecated. Please use tf.compat.v1.assign_add instead.\n",
            "\n",
            "WARNING:tensorflow:From /usr/local/lib/python3.6/dist-packages/keras/backend/tensorflow_backend.py:1020: The name tf.assign is deprecated. Please use tf.compat.v1.assign instead.\n",
            "\n",
            "WARNING:tensorflow:From /usr/local/lib/python3.6/dist-packages/keras/backend/tensorflow_backend.py:3005: The name tf.Session is deprecated. Please use tf.compat.v1.Session instead.\n",
            "\n",
            "Train on 416 samples, validate on 139 samples\n",
            "Epoch 1/20\n",
            "WARNING:tensorflow:From /usr/local/lib/python3.6/dist-packages/keras/backend/tensorflow_backend.py:190: The name tf.get_default_session is deprecated. Please use tf.compat.v1.get_default_session instead.\n",
            "\n",
            "WARNING:tensorflow:From /usr/local/lib/python3.6/dist-packages/keras/backend/tensorflow_backend.py:197: The name tf.ConfigProto is deprecated. Please use tf.compat.v1.ConfigProto instead.\n",
            "\n",
            "WARNING:tensorflow:From /usr/local/lib/python3.6/dist-packages/keras/backend/tensorflow_backend.py:207: The name tf.global_variables is deprecated. Please use tf.compat.v1.global_variables instead.\n",
            "\n",
            "WARNING:tensorflow:From /usr/local/lib/python3.6/dist-packages/keras/backend/tensorflow_backend.py:216: The name tf.is_variable_initialized is deprecated. Please use tf.compat.v1.is_variable_initialized instead.\n",
            "\n",
            "WARNING:tensorflow:From /usr/local/lib/python3.6/dist-packages/keras/backend/tensorflow_backend.py:223: The name tf.variables_initializer is deprecated. Please use tf.compat.v1.variables_initializer instead.\n",
            "\n",
            "416/416 [==============================] - 1s 2ms/step - loss: 0.6342 - acc: 0.1923 - val_loss: 0.1400 - val_acc: 0.1655\n",
            "Epoch 2/20\n",
            "416/416 [==============================] - 0s 249us/step - loss: 0.1363 - acc: 0.2043 - val_loss: 0.0934 - val_acc: 0.3309\n",
            "Epoch 3/20\n",
            "416/416 [==============================] - 0s 232us/step - loss: 0.0930 - acc: 0.4135 - val_loss: 0.0708 - val_acc: 0.3597\n",
            "Epoch 4/20\n",
            "416/416 [==============================] - 0s 234us/step - loss: 0.0790 - acc: 0.3245 - val_loss: 0.0673 - val_acc: 0.2518\n",
            "Epoch 5/20\n",
            "416/416 [==============================] - 0s 215us/step - loss: 0.0620 - acc: 0.3317 - val_loss: 0.0484 - val_acc: 0.2446\n",
            "Epoch 6/20\n",
            "416/416 [==============================] - 0s 213us/step - loss: 0.0503 - acc: 0.3558 - val_loss: 0.0431 - val_acc: 0.2806\n",
            "Epoch 7/20\n",
            "416/416 [==============================] - 0s 203us/step - loss: 0.0447 - acc: 0.3798 - val_loss: 0.0421 - val_acc: 0.3165\n",
            "Epoch 8/20\n",
            "416/416 [==============================] - 0s 199us/step - loss: 0.0406 - acc: 0.3558 - val_loss: 0.0398 - val_acc: 0.2590\n",
            "Epoch 9/20\n",
            "416/416 [==============================] - 0s 206us/step - loss: 0.0394 - acc: 0.4207 - val_loss: 0.0390 - val_acc: 0.3669\n",
            "Epoch 10/20\n",
            "416/416 [==============================] - 0s 214us/step - loss: 0.0378 - acc: 0.3966 - val_loss: 0.0371 - val_acc: 0.3885\n",
            "Epoch 11/20\n",
            "416/416 [==============================] - 0s 222us/step - loss: 0.0366 - acc: 0.4207 - val_loss: 0.0372 - val_acc: 0.3165\n",
            "Epoch 12/20\n",
            "416/416 [==============================] - 0s 200us/step - loss: 0.0346 - acc: 0.4399 - val_loss: 0.0382 - val_acc: 0.3094\n",
            "Epoch 13/20\n",
            "416/416 [==============================] - 0s 222us/step - loss: 0.0369 - acc: 0.4207 - val_loss: 0.0372 - val_acc: 0.3237\n",
            "Epoch 14/20\n",
            "416/416 [==============================] - 0s 212us/step - loss: 0.0351 - acc: 0.4183 - val_loss: 0.0345 - val_acc: 0.3741\n",
            "Epoch 15/20\n",
            "416/416 [==============================] - 0s 228us/step - loss: 0.0334 - acc: 0.4279 - val_loss: 0.0350 - val_acc: 0.4101\n",
            "Epoch 16/20\n",
            "416/416 [==============================] - 0s 223us/step - loss: 0.0337 - acc: 0.4519 - val_loss: 0.0334 - val_acc: 0.3309\n",
            "Epoch 17/20\n",
            "416/416 [==============================] - 0s 245us/step - loss: 0.0323 - acc: 0.4399 - val_loss: 0.0371 - val_acc: 0.4317\n",
            "Epoch 18/20\n",
            "416/416 [==============================] - 0s 230us/step - loss: 0.0320 - acc: 0.4303 - val_loss: 0.0354 - val_acc: 0.4388\n",
            "Epoch 19/20\n",
            "416/416 [==============================] - 0s 208us/step - loss: 0.0312 - acc: 0.4087 - val_loss: 0.0327 - val_acc: 0.3597\n",
            "Epoch 20/20\n",
            "416/416 [==============================] - 0s 234us/step - loss: 0.0310 - acc: 0.4327 - val_loss: 0.0367 - val_acc: 0.4245\n"
          ],
          "name": "stdout"
        },
        {
          "output_type": "execute_result",
          "data": {
            "text/plain": [
              "<keras.callbacks.History at 0x7f0391881e80>"
            ]
          },
          "metadata": {
            "tags": []
          },
          "execution_count": 19
        }
      ]
    },
    {
      "cell_type": "code",
      "metadata": {
        "id": "13AJcZB6DWC-",
        "colab_type": "code",
        "colab": {
          "base_uri": "https://localhost:8080/",
          "height": 265
        },
        "outputId": "26d76009-8c05-4dd2-bbf6-35de357cef74"
      },
      "source": [
        "plt.plot(model.history.history['loss'], 'r.-', label=\"Training Loss\")\n",
        "plt.plot(model.history.history['val_loss'], 'g.-', label=\"Validation Loss\")\n",
        "plt.legend()\n",
        "plt.show()"
      ],
      "execution_count": 20,
      "outputs": [
        {
          "output_type": "display_data",
          "data": {
            "image/png": "[encoded data removed]",
            "text/plain": [
              "<Figure size 432x288 with 1 Axes>"
            ]
          },
          "metadata": {
            "tags": []
          }
        }
      ]
    },
    {
      "cell_type": "code",
      "metadata": {
        "id": "4B37MIkPDbQs",
        "colab_type": "code",
        "colab": {
          "base_uri": "https://localhost:8080/",
          "height": 265
        },
        "outputId": "e0421fe2-d6b2-4b00-d565-84519fa11430"
      },
      "source": [
        "plt.plot(model.history.history['acc'], 'r.-', label=\"Training Accuracy\")\n",
        "plt.plot(model.history.history['val_acc'], 'g.-', label=\"Validation Accuracy\")\n",
        "plt.legend()\n",
        "plt.show()"
      ],
      "execution_count": 21,
      "outputs": [
        {
          "output_type": "display_data",
          "data": {
            "image/png": "[encoded data removed]",
            "text/plain": [
              "<Figure size 432x288 with 1 Axes>"
            ]
          },
          "metadata": {
            "tags": []
          }
        }
      ]
    },
    {
      "cell_type": "code",
      "metadata": {
        "id": "nvmgoNoBDdCE",
        "colab_type": "code",
        "colab": {}
      },
      "source": [
        "model.save('pm25_shanghai_cnn_model.h5')"
      ],
      "execution_count": 0,
      "outputs": []
    },
    {
      "cell_type": "code",
      "metadata": {
        "id": "J4xZs7CtDhwc",
        "colab_type": "code",
        "colab": {}
      },
      "source": [
        ""
      ],
      "execution_count": 0,
      "outputs": []
    }
  ]
}