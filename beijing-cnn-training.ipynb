{
  "nbformat": 4,
  "nbformat_minor": 0,
  "metadata": {
    "colab": {
      "name": "start.ipynb",
      "provenance": [],
      "authorship_tag": "ABX9TyNCSPwvIR+G3/YQryQueqo8",
      "include_colab_link": true
    },
    "kernelspec": {
      "name": "python3",
      "display_name": "Python 3"
    },
    "accelerator": "GPU"
  },
  "cells": [
    {
      "cell_type": "markdown",
      "metadata": {
        "id": "view-in-github",
        "colab_type": "text"
      },
      "source": [
        "<a href=\"https://colab.research.google.com/github/vishal-pandey/iot-transfer/blob/master/beijing-cnn-training.ipynb\" target=\"_parent\"><img src=\"https://colab.research.google.com/assets/colab-badge.svg\" alt=\"Open In Colab\"/></a>"
      ]
    },
    {
      "cell_type": "code",
      "metadata": {
        "id": "6Ocx9UgSb_2e",
        "colab_type": "code",
        "colab": {}
      },
      "source": [
        "URL_beijing = \"https://github.com/vishal-pandey/iot-transfer/raw/master/pm25_beijing.csv\""
      ],
      "execution_count": 0,
      "outputs": []
    },
    {
      "cell_type": "code",
      "metadata": {
        "id": "Hr4i8wYLxxPj",
        "colab_type": "code",
        "colab": {}
      },
      "source": [
        "import numpy as np\n",
        "import pandas as pd\n",
        "import matplotlib.pyplot as plt\n",
        "from sklearn.preprocessing import StandardScaler\n",
        "from sklearn.model_selection import train_test_split"
      ],
      "execution_count": 0,
      "outputs": []
    },
    {
      "cell_type": "code",
      "metadata": {
        "id": "Od3l4hQYx4RJ",
        "colab_type": "code",
        "colab": {}
      },
      "source": [
        "df_beijing = pd.read_csv(URL_beijing)"
      ],
      "execution_count": 0,
      "outputs": []
    },
    {
      "cell_type": "code",
      "metadata": {
        "id": "9klrC2JEyGGv",
        "colab_type": "code",
        "colab": {}
      },
      "source": [
        "pm25_beijing = df_beijing.iloc[:, 0].values"
      ],
      "execution_count": 0,
      "outputs": []
    },
    {
      "cell_type": "code",
      "metadata": {
        "id": "c_fsGDNY5eO3",
        "colab_type": "code",
        "colab": {}
      },
      "source": [
        "pm25_beijing = pm25_beijing.reshape(-1, 1)"
      ],
      "execution_count": 0,
      "outputs": []
    },
    {
      "cell_type": "code",
      "metadata": {
        "id": "7vZSMOSE5Ptv",
        "colab_type": "code",
        "colab": {}
      },
      "source": [
        "scaler_beijing = StandardScaler()\n",
        "scaler_beijing.fit(pm25_beijing)\n",
        "pm25_beijing = scaler_beijing.transform(pm25_beijing)"
      ],
      "execution_count": 0,
      "outputs": []
    },
    {
      "cell_type": "code",
      "metadata": {
        "id": "wlVFAjGuxnan",
        "colab_type": "code",
        "colab": {}
      },
      "source": [
        "N = 20\n",
        "O = 5\n",
        "P = 20"
      ],
      "execution_count": 0,
      "outputs": []
    },
    {
      "cell_type": "code",
      "metadata": {
        "id": "9RavcPoaxuqd",
        "colab_type": "code",
        "colab": {}
      },
      "source": [
        "X_beijing = []\n",
        "y_beijing = []\n",
        "\n",
        "for i in range(len(pm25_beijing) - (N + O + P)):\n",
        "  temp = []\n",
        "  temp1 = pm25_beijing[i : i+N]\n",
        "  temp2 = [0 for _ in range(O)]\n",
        "  temp3 = pm25_beijing[i+N+O : i+N+O+P]\n",
        "  X_beijing.append(np.append(np.append(temp1, temp2), temp3))\n",
        "  y_beijing.append(pm25_beijing[i+N : i+N+O].reshape(O))"
      ],
      "execution_count": 0,
      "outputs": []
    },
    {
      "cell_type": "code",
      "metadata": {
        "id": "nP79lTb6ylGa",
        "colab_type": "code",
        "colab": {}
      },
      "source": [
        "X_beijing = np.array(X_beijing)\n",
        "y_beijing = np.array(y_beijing)"
      ],
      "execution_count": 0,
      "outputs": []
    },
    {
      "cell_type": "code",
      "metadata": {
        "id": "8IMH6Ik5yqG0",
        "colab_type": "code",
        "colab": {
          "base_uri": "https://localhost:8080/",
          "height": 51
        },
        "outputId": "6ae8212f-2cce-4632-bcb4-437da038f5f8"
      },
      "source": [
        "print(X_beijing.shape)\n",
        "print(y_beijing.shape)"
      ],
      "execution_count": 53,
      "outputs": [
        {
          "output_type": "stream",
          "text": [
            "(41712, 45)\n",
            "(41712, 5)\n"
          ],
          "name": "stdout"
        }
      ]
    },
    {
      "cell_type": "code",
      "metadata": {
        "id": "oCtlKdOfywbB",
        "colab_type": "code",
        "colab": {
          "base_uri": "https://localhost:8080/",
          "height": 265
        },
        "outputId": "1c22681f-6730-4e9a-be99-ed79bca1caae"
      },
      "source": [
        "plt.plot(pm25_beijing[:500])\n",
        "plt.show()"
      ],
      "execution_count": 55,
      "outputs": [
        {
          "output_type": "display_data",
          "data": {
            "image/png": "[encoded data removed]",
            "text/plain": [
              "<Figure size 432x288 with 1 Axes>"
            ]
          },
          "metadata": {
            "tags": []
          }
        }
      ]
    },
    {
      "cell_type": "code",
      "metadata": {
        "id": "QCrc304w1Es_",
        "colab_type": "code",
        "colab": {}
      },
      "source": [
        "X_beijing_train, X_beijing_test, y_beijing_train, y_beijing_test = train_test_split(X_beijing, y_beijing)"
      ],
      "execution_count": 0,
      "outputs": []
    },
    {
      "cell_type": "code",
      "metadata": {
        "id": "lBSIOVLU4GzT",
        "colab_type": "code",
        "colab": {}
      },
      "source": [
        "X_beijing_train = X_beijing_train.reshape(X_beijing_train.shape[0], -1, 1)\n",
        "X_beijing_test = X_beijing_test.reshape(X_beijing_test.shape[0], -1, 1)"
      ],
      "execution_count": 0,
      "outputs": []
    },
    {
      "cell_type": "code",
      "metadata": {
        "id": "9rqFMoEA6Umt",
        "colab_type": "code",
        "colab": {
          "base_uri": "https://localhost:8080/",
          "height": 97
        },
        "outputId": "fd645af0-ba32-4052-fa49-b07b873f629b"
      },
      "source": [
        "from keras.layers import LSTM, Bidirectional, Dropout\n",
        "from keras.models import Sequential\n",
        "from keras.layers import Dense, Flatten\n",
        "from keras.layers.convolutional import Conv1D, Conv2D, MaxPooling1D, MaxPooling2D"
      ],
      "execution_count": 59,
      "outputs": [
        {
          "output_type": "stream",
          "text": [
            "Using TensorFlow backend.\n"
          ],
          "name": "stderr"
        },
        {
          "output_type": "display_data",
          "data": {
            "text/html": [
              "<p style=\"color: red;\">\n",
              "The default version of TensorFlow in Colab will soon switch to TensorFlow 2.x.<br>\n",
              "We recommend you <a href=\"https://www.tensorflow.org/guide/migrate\" target=\"_blank\">upgrade</a> now \n",
              "or ensure your notebook will continue to use TensorFlow 1.x via the <code>%tensorflow_version 1.x</code> magic:\n",
              "<a href=\"https://colab.research.google.com/notebooks/tensorflow_version.ipynb\" target=\"_blank\">more info</a>.</p>\n"
            ],
            "text/plain": [
              "<IPython.core.display.HTML object>"
            ]
          },
          "metadata": {
            "tags": []
          }
        }
      ]
    },
    {
      "cell_type": "code",
      "metadata": {
        "id": "rknCy70U7IRB",
        "colab_type": "code",
        "colab": {
          "base_uri": "https://localhost:8080/",
          "height": 34
        },
        "outputId": "02cf4293-0167-4314-e260-513e2848d020"
      },
      "source": [
        "X_beijing_train.shape"
      ],
      "execution_count": 60,
      "outputs": [
        {
          "output_type": "execute_result",
          "data": {
            "text/plain": [
              "(31284, 45, 1)"
            ]
          },
          "metadata": {
            "tags": []
          },
          "execution_count": 60
        }
      ]
    },
    {
      "cell_type": "code",
      "metadata": {
        "id": "2F7jBnIH7CxY",
        "colab_type": "code",
        "colab": {
          "base_uri": "https://localhost:8080/",
          "height": 71
        },
        "outputId": "5c72be5f-1168-405e-f4e8-e6f8469b6f71"
      },
      "source": [
        "model = Sequential()\n",
        "model.add(Conv1D(filters=64, kernel_size=3, activation='relu', input_shape=(X_beijing_train.shape[1],X_beijing_train.shape[2])))\n",
        "model.add(MaxPooling1D())\n",
        "model.add(Conv1D(filters=32, kernel_size=3, activation='relu'))\n",
        "model.add(Flatten())\n",
        "model.add(Dense(50, activation='relu'))\n",
        "model.add(Dense(5))\n",
        "model.compile(optimizer='adam', loss='mse', metrics=['accuracy'])"
      ],
      "execution_count": 67,
      "outputs": [
        {
          "output_type": "stream",
          "text": [
            "WARNING:tensorflow:From /usr/local/lib/python3.6/dist-packages/keras/backend/tensorflow_backend.py:4267: The name tf.nn.max_pool is deprecated. Please use tf.nn.max_pool2d instead.\n",
            "\n"
          ],
          "name": "stdout"
        }
      ]
    },
    {
      "cell_type": "code",
      "metadata": {
        "id": "xGPOX6Ss7PV4",
        "colab_type": "code",
        "colab": {
          "base_uri": "https://localhost:8080/",
          "height": 751
        },
        "outputId": "fb198f43-ef83-4b40-d4fc-7643b6ec0e65"
      },
      "source": [
        "model.fit(X_beijing_train, y_beijing_train, epochs=20, validation_data=(X_beijing_test, y_beijing_test))"
      ],
      "execution_count": 68,
      "outputs": [
        {
          "output_type": "stream",
          "text": [
            "Train on 31284 samples, validate on 10428 samples\n",
            "Epoch 1/20\n",
            "31284/31284 [==============================] - 4s 143us/step - loss: 0.1158 - acc: 0.4309 - val_loss: 0.1052 - val_acc: 0.4441\n",
            "Epoch 2/20\n",
            "31284/31284 [==============================] - 4s 131us/step - loss: 0.0937 - acc: 0.4685 - val_loss: 0.0875 - val_acc: 0.4726\n",
            "Epoch 3/20\n",
            "31284/31284 [==============================] - 4s 134us/step - loss: 0.0903 - acc: 0.4776 - val_loss: 0.0949 - val_acc: 0.4897\n",
            "Epoch 4/20\n",
            "31284/31284 [==============================] - 4s 131us/step - loss: 0.0899 - acc: 0.4820 - val_loss: 0.0840 - val_acc: 0.4970\n",
            "Epoch 5/20\n",
            "31284/31284 [==============================] - 4s 129us/step - loss: 0.0888 - acc: 0.4838 - val_loss: 0.0856 - val_acc: 0.4854\n",
            "Epoch 6/20\n",
            "31284/31284 [==============================] - 4s 131us/step - loss: 0.0884 - acc: 0.4824 - val_loss: 0.0940 - val_acc: 0.4726\n",
            "Epoch 7/20\n",
            "31284/31284 [==============================] - 4s 130us/step - loss: 0.0874 - acc: 0.4855 - val_loss: 0.0838 - val_acc: 0.4843\n",
            "Epoch 8/20\n",
            "31284/31284 [==============================] - 4s 131us/step - loss: 0.0863 - acc: 0.4810 - val_loss: 0.0846 - val_acc: 0.4709\n",
            "Epoch 9/20\n",
            "31284/31284 [==============================] - 4s 132us/step - loss: 0.0853 - acc: 0.4828 - val_loss: 0.0827 - val_acc: 0.4842\n",
            "Epoch 10/20\n",
            "31284/31284 [==============================] - 4s 129us/step - loss: 0.0843 - acc: 0.4816 - val_loss: 0.0844 - val_acc: 0.4763\n",
            "Epoch 11/20\n",
            "31284/31284 [==============================] - 4s 129us/step - loss: 0.0835 - acc: 0.4856 - val_loss: 0.0879 - val_acc: 0.4875\n",
            "Epoch 12/20\n",
            "31284/31284 [==============================] - 4s 128us/step - loss: 0.0830 - acc: 0.4834 - val_loss: 0.0854 - val_acc: 0.4829\n",
            "Epoch 13/20\n",
            "31284/31284 [==============================] - 4s 130us/step - loss: 0.0820 - acc: 0.4805 - val_loss: 0.0829 - val_acc: 0.4854\n",
            "Epoch 14/20\n",
            "31284/31284 [==============================] - 4s 129us/step - loss: 0.0811 - acc: 0.4837 - val_loss: 0.0835 - val_acc: 0.4607\n",
            "Epoch 15/20\n",
            "31284/31284 [==============================] - 4s 129us/step - loss: 0.0801 - acc: 0.4823 - val_loss: 0.0856 - val_acc: 0.4868\n",
            "Epoch 16/20\n",
            "31284/31284 [==============================] - 4s 130us/step - loss: 0.0795 - acc: 0.4844 - val_loss: 0.0838 - val_acc: 0.4616\n",
            "Epoch 17/20\n",
            "31284/31284 [==============================] - 4s 131us/step - loss: 0.0786 - acc: 0.4822 - val_loss: 0.0864 - val_acc: 0.4891\n",
            "Epoch 18/20\n",
            "31284/31284 [==============================] - 4s 132us/step - loss: 0.0777 - acc: 0.4810 - val_loss: 0.0848 - val_acc: 0.4387\n",
            "Epoch 19/20\n",
            "31284/31284 [==============================] - 4s 132us/step - loss: 0.0768 - acc: 0.4806 - val_loss: 0.0859 - val_acc: 0.4709\n",
            "Epoch 20/20\n",
            "31284/31284 [==============================] - 4s 131us/step - loss: 0.0763 - acc: 0.4763 - val_loss: 0.0853 - val_acc: 0.4476\n"
          ],
          "name": "stdout"
        },
        {
          "output_type": "execute_result",
          "data": {
            "text/plain": [
              "<keras.callbacks.History at 0x7f40800387f0>"
            ]
          },
          "metadata": {
            "tags": []
          },
          "execution_count": 68
        }
      ]
    },
    {
      "cell_type": "code",
      "metadata": {
        "id": "5v93IlfC7q85",
        "colab_type": "code",
        "colab": {
          "base_uri": "https://localhost:8080/",
          "height": 265
        },
        "outputId": "30d7a334-b490-4e24-c88a-69501a78226c"
      },
      "source": [
        "plt.plot(model.history.history['loss'], 'r.-', label=\"Training Loss\")\n",
        "plt.plot(model.history.history['val_loss'], 'g.-', label=\"Validation Loss\")\n",
        "plt.legend()\n",
        "plt.show()"
      ],
      "execution_count": 69,
      "outputs": [
        {
          "output_type": "display_data",
          "data": {
            "image/png": "[encoded data removed]",
            "text/plain": [
              "<Figure size 432x288 with 1 Axes>"
            ]
          },
          "metadata": {
            "tags": []
          }
        }
      ]
    },
    {
      "cell_type": "code",
      "metadata": {
        "id": "7P2103UQ9Cyx",
        "colab_type": "code",
        "colab": {}
      },
      "source": [
        "model.save('pm25_beijing_model.h5')"
      ],
      "execution_count": 0,
      "outputs": []
    },
    {
      "cell_type": "code",
      "metadata": {
        "id": "E_mrjhlC9Vlb",
        "colab_type": "code",
        "colab": {}
      },
      "source": [
        ""
      ],
      "execution_count": 0,
      "outputs": []
    }
  ]
}