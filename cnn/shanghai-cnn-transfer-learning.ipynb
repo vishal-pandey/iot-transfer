{
  "nbformat": 4,
  "nbformat_minor": 0,
  "metadata": {
    "colab": {
      "name": "start.ipynb",
      "provenance": [],
      "authorship_tag": "ABX9TyPfMwy8vurn/rp/cqgnIPv0",
      "include_colab_link": true
    },
    "kernelspec": {
      "name": "python3",
      "display_name": "Python 3"
    }
  },
  "cells": [
    {
      "cell_type": "markdown",
      "metadata": {
        "id": "view-in-github",
        "colab_type": "text"
      },
      "source": [
        "<a href=\"https://colab.research.google.com/github/vishal-pandey/iot-transfer/blob/master/shanghai-cnn-transfer-learning.ipynb\" target=\"_parent\"><img src=\"https://colab.research.google.com/assets/colab-badge.svg\" alt=\"Open In Colab\"/></a>"
      ]
    },
    {
      "cell_type": "code",
      "metadata": {
        "id": "6Ocx9UgSb_2e",
        "colab_type": "code",
        "colab": {}
      },
      "source": [
        "URL_shanghai = \"https://github.com/vishal-pandey/iot-transfer/raw/master/pm25_shanghai.csv\""
      ],
      "execution_count": 0,
      "outputs": []
    },
    {
      "cell_type": "code",
      "metadata": {
        "id": "ngnshPl5Ew7h",
        "colab_type": "code",
        "colab": {}
      },
      "source": [
        "import numpy as np\n",
        "import pandas as pd\n",
        "import matplotlib.pyplot as plt\n",
        "from sklearn.preprocessing import StandardScaler\n",
        "from sklearn.model_selection import train_test_split"
      ],
      "execution_count": 0,
      "outputs": []
    },
    {
      "cell_type": "code",
      "metadata": {
        "id": "-duUcT1BEzfm",
        "colab_type": "code",
        "colab": {}
      },
      "source": [
        "df_shanghai = pd.read_csv(URL_shanghai)"
      ],
      "execution_count": 0,
      "outputs": []
    },
    {
      "cell_type": "code",
      "metadata": {
        "id": "mnN8uMefE1om",
        "colab_type": "code",
        "colab": {}
      },
      "source": [
        "pm25_shanghai = df_shanghai.iloc[:, 0].values"
      ],
      "execution_count": 0,
      "outputs": []
    },
    {
      "cell_type": "code",
      "metadata": {
        "id": "UJxigACqE249",
        "colab_type": "code",
        "colab": {}
      },
      "source": [
        "pm25_shanghai = pm25_shanghai.reshape(-1, 1)"
      ],
      "execution_count": 0,
      "outputs": []
    },
    {
      "cell_type": "code",
      "metadata": {
        "id": "nbinjMgtE4Kt",
        "colab_type": "code",
        "colab": {}
      },
      "source": [
        "scaler_shanghai = StandardScaler()\n",
        "scaler_shanghai.fit(pm25_shanghai)\n",
        "pm25_shanghai = scaler_shanghai.transform(pm25_shanghai)"
      ],
      "execution_count": 0,
      "outputs": []
    },
    {
      "cell_type": "code",
      "metadata": {
        "id": "lAwrOESjE5eF",
        "colab_type": "code",
        "colab": {}
      },
      "source": [
        "N = 20\n",
        "O = 5\n",
        "P = 20"
      ],
      "execution_count": 0,
      "outputs": []
    },
    {
      "cell_type": "code",
      "metadata": {
        "id": "4QrShefUE7eR",
        "colab_type": "code",
        "colab": {}
      },
      "source": [
        "X_shanghai = []\n",
        "y_shanghai = []\n",
        "\n",
        "for i in range(len(pm25_shanghai) - (N + O + P)):\n",
        "  temp = []\n",
        "  temp1 = pm25_shanghai[i : i+N]\n",
        "  temp2 = [0 for _ in range(O)]\n",
        "  temp3 = pm25_shanghai[i+N+O : i+N+O+P]\n",
        "  X_shanghai.append(np.append(np.append(temp1, temp2), temp3))\n",
        "  y_shanghai.append(pm25_shanghai[i+N : i+N+O].reshape(O))"
      ],
      "execution_count": 0,
      "outputs": []
    },
    {
      "cell_type": "code",
      "metadata": {
        "id": "-oWbDBllE9cl",
        "colab_type": "code",
        "colab": {}
      },
      "source": [
        "X_shanghai = np.array(X_shanghai)\n",
        "y_shanghai = np.array(y_shanghai)"
      ],
      "execution_count": 0,
      "outputs": []
    },
    {
      "cell_type": "code",
      "metadata": {
        "id": "LE1Kdfv9E_Vd",
        "colab_type": "code",
        "colab": {
          "base_uri": "https://localhost:8080/",
          "height": 51
        },
        "outputId": "1bdaaef2-ec33-450d-8876-6e48076df3dd"
      },
      "source": [
        "print(X_shanghai.shape)\n",
        "print(y_shanghai.shape)"
      ],
      "execution_count": 32,
      "outputs": [
        {
          "output_type": "stream",
          "text": [
            "(555, 45)\n",
            "(555, 5)\n"
          ],
          "name": "stdout"
        }
      ]
    },
    {
      "cell_type": "code",
      "metadata": {
        "id": "OKI0pamAFCtG",
        "colab_type": "code",
        "colab": {
          "base_uri": "https://localhost:8080/",
          "height": 265
        },
        "outputId": "90c9e13c-6bcb-4da3-b943-d836318700fa"
      },
      "source": [
        "plt.plot(pm25_shanghai[:500])\n",
        "plt.show()"
      ],
      "execution_count": 33,
      "outputs": [
        {
          "output_type": "display_data",
          "data": {
            "image/png": "[encoded data removed]",
            "text/plain": [
              "<Figure size 432x288 with 1 Axes>"
            ]
          },
          "metadata": {
            "tags": []
          }
        }
      ]
    },
    {
      "cell_type": "code",
      "metadata": {
        "id": "WEztGagjFF5N",
        "colab_type": "code",
        "colab": {}
      },
      "source": [
        "X_shanghai_train, X_shanghai_test, y_shanghai_train, y_shanghai_test = train_test_split(X_shanghai, y_shanghai)"
      ],
      "execution_count": 0,
      "outputs": []
    },
    {
      "cell_type": "code",
      "metadata": {
        "id": "0R2Y4Eg7FIEV",
        "colab_type": "code",
        "colab": {}
      },
      "source": [
        "X_shanghai_train = X_shanghai_train.reshape(X_shanghai_train.shape[0], -1, 1)\n",
        "X_shanghai_test = X_shanghai_test.reshape(X_shanghai_test.shape[0], -1, 1)"
      ],
      "execution_count": 0,
      "outputs": []
    },
    {
      "cell_type": "code",
      "metadata": {
        "id": "HpUBHQ9ZFN2N",
        "colab_type": "code",
        "colab": {}
      },
      "source": [
        "URL_base_model = \"https://raw.githubusercontent.com/vishal-pandey/iot-transfer/master/pm25_beijing_cnn_model.h5\""
      ],
      "execution_count": 0,
      "outputs": []
    },
    {
      "cell_type": "code",
      "metadata": {
        "id": "qZALvG_xFfZa",
        "colab_type": "code",
        "colab": {
          "base_uri": "https://localhost:8080/",
          "height": 204
        },
        "outputId": "6e6c18e9-7313-4dfe-9de3-945a1230efcc"
      },
      "source": [
        "!wget $URL_base_model"
      ],
      "execution_count": 49,
      "outputs": [
        {
          "output_type": "stream",
          "text": [
            "--2020-03-13 08:54:00--  https://raw.githubusercontent.com/vishal-pandey/iot-transfer/master/pm25_beijing_cnn_model.h5\n",
            "Resolving raw.githubusercontent.com (raw.githubusercontent.com)... 151.101.0.133, 151.101.64.133, 151.101.128.133, ...\n",
            "Connecting to raw.githubusercontent.com (raw.githubusercontent.com)|151.101.0.133|:443... connected.\n",
            "HTTP request sent, awaiting response... 200 OK\n",
            "Length: 480832 (470K) [application/octet-stream]\n",
            "Saving to: ‘pm25_beijing_cnn_model.h5’\n",
            "\n",
            "\r          pm25_beij   0%[                    ]       0  --.-KB/s               \rpm25_beijing_cnn_mo 100%[===================>] 469.56K  --.-KB/s    in 0.06s   \n",
            "\n",
            "2020-03-13 08:54:00 (7.40 MB/s) - ‘pm25_beijing_cnn_model.h5’ saved [480832/480832]\n",
            "\n"
          ],
          "name": "stdout"
        }
      ]
    },
    {
      "cell_type": "code",
      "metadata": {
        "id": "J2c-pwToFjTi",
        "colab_type": "code",
        "colab": {}
      },
      "source": [
        "from keras.models import load_model\n",
        "model = load_model('pm25_beijing_cnn_model.h5')"
      ],
      "execution_count": 0,
      "outputs": []
    },
    {
      "cell_type": "code",
      "metadata": {
        "id": "3wQHCySRF-RZ",
        "colab_type": "code",
        "colab": {
          "base_uri": "https://localhost:8080/",
          "height": 357
        },
        "outputId": "47112842-f241-437c-cb51-8d384a8b70dc"
      },
      "source": [
        "model.summary()"
      ],
      "execution_count": 51,
      "outputs": [
        {
          "output_type": "stream",
          "text": [
            "Model: \"sequential_6\"\n",
            "_________________________________________________________________\n",
            "Layer (type)                 Output Shape              Param #   \n",
            "=================================================================\n",
            "conv1d_5 (Conv1D)            (None, 43, 64)            256       \n",
            "_________________________________________________________________\n",
            "max_pooling1d_3 (MaxPooling1 (None, 21, 64)            0         \n",
            "_________________________________________________________________\n",
            "conv1d_6 (Conv1D)            (None, 19, 32)            6176      \n",
            "_________________________________________________________________\n",
            "flatten_2 (Flatten)          (None, 608)               0         \n",
            "_________________________________________________________________\n",
            "dense_3 (Dense)              (None, 50)                30450     \n",
            "_________________________________________________________________\n",
            "dense_4 (Dense)              (None, 5)                 255       \n",
            "=================================================================\n",
            "Total params: 37,137\n",
            "Trainable params: 37,137\n",
            "Non-trainable params: 0\n",
            "_________________________________________________________________\n"
          ],
          "name": "stdout"
        }
      ]
    },
    {
      "cell_type": "code",
      "metadata": {
        "id": "sVMidY2gGgO2",
        "colab_type": "code",
        "colab": {
          "base_uri": "https://localhost:8080/",
          "height": 731
        },
        "outputId": "13fc820a-6a85-4aff-ad23-d66afa2d2cbe"
      },
      "source": [
        "model.fit(X_shanghai_train, y_shanghai_train, epochs=20, validation_data=(X_shanghai_test, y_shanghai_test))"
      ],
      "execution_count": 52,
      "outputs": [
        {
          "output_type": "stream",
          "text": [
            "Train on 416 samples, validate on 139 samples\n",
            "Epoch 1/20\n",
            "416/416 [==============================] - 0s 635us/step - loss: 0.0336 - acc: 0.4183 - val_loss: 0.0456 - val_acc: 0.4460\n",
            "Epoch 2/20\n",
            "416/416 [==============================] - 0s 188us/step - loss: 0.0307 - acc: 0.3942 - val_loss: 0.0383 - val_acc: 0.4604\n",
            "Epoch 3/20\n",
            "416/416 [==============================] - 0s 181us/step - loss: 0.0280 - acc: 0.4351 - val_loss: 0.0389 - val_acc: 0.4748\n",
            "Epoch 4/20\n",
            "416/416 [==============================] - 0s 178us/step - loss: 0.0263 - acc: 0.4327 - val_loss: 0.0410 - val_acc: 0.4604\n",
            "Epoch 5/20\n",
            "416/416 [==============================] - 0s 192us/step - loss: 0.0244 - acc: 0.4567 - val_loss: 0.0410 - val_acc: 0.4748\n",
            "Epoch 6/20\n",
            "416/416 [==============================] - 0s 190us/step - loss: 0.0234 - acc: 0.4519 - val_loss: 0.0420 - val_acc: 0.4676\n",
            "Epoch 7/20\n",
            "416/416 [==============================] - 0s 193us/step - loss: 0.0228 - acc: 0.4423 - val_loss: 0.0414 - val_acc: 0.4676\n",
            "Epoch 8/20\n",
            "416/416 [==============================] - 0s 188us/step - loss: 0.0217 - acc: 0.4423 - val_loss: 0.0430 - val_acc: 0.4676\n",
            "Epoch 9/20\n",
            "416/416 [==============================] - 0s 190us/step - loss: 0.0211 - acc: 0.4519 - val_loss: 0.0400 - val_acc: 0.4604\n",
            "Epoch 10/20\n",
            "416/416 [==============================] - 0s 189us/step - loss: 0.0203 - acc: 0.4447 - val_loss: 0.0433 - val_acc: 0.4964\n",
            "Epoch 11/20\n",
            "416/416 [==============================] - 0s 189us/step - loss: 0.0198 - acc: 0.4519 - val_loss: 0.0420 - val_acc: 0.4748\n",
            "Epoch 12/20\n",
            "416/416 [==============================] - 0s 178us/step - loss: 0.0194 - acc: 0.4495 - val_loss: 0.0413 - val_acc: 0.4820\n",
            "Epoch 13/20\n",
            "416/416 [==============================] - 0s 185us/step - loss: 0.0183 - acc: 0.4495 - val_loss: 0.0435 - val_acc: 0.4820\n",
            "Epoch 14/20\n",
            "416/416 [==============================] - 0s 188us/step - loss: 0.0178 - acc: 0.4447 - val_loss: 0.0422 - val_acc: 0.4748\n",
            "Epoch 15/20\n",
            "416/416 [==============================] - 0s 200us/step - loss: 0.0173 - acc: 0.4399 - val_loss: 0.0437 - val_acc: 0.4892\n",
            "Epoch 16/20\n",
            "416/416 [==============================] - 0s 186us/step - loss: 0.0168 - acc: 0.4591 - val_loss: 0.0417 - val_acc: 0.4820\n",
            "Epoch 17/20\n",
            "416/416 [==============================] - 0s 188us/step - loss: 0.0164 - acc: 0.4567 - val_loss: 0.0422 - val_acc: 0.4676\n",
            "Epoch 18/20\n",
            "416/416 [==============================] - 0s 185us/step - loss: 0.0160 - acc: 0.4639 - val_loss: 0.0426 - val_acc: 0.4748\n",
            "Epoch 19/20\n",
            "416/416 [==============================] - 0s 186us/step - loss: 0.0155 - acc: 0.4543 - val_loss: 0.0437 - val_acc: 0.4820\n",
            "Epoch 20/20\n",
            "416/416 [==============================] - 0s 186us/step - loss: 0.0150 - acc: 0.4519 - val_loss: 0.0440 - val_acc: 0.4604\n"
          ],
          "name": "stdout"
        },
        {
          "output_type": "execute_result",
          "data": {
            "text/plain": [
              "<keras.callbacks.History at 0x7f03849a2f98>"
            ]
          },
          "metadata": {
            "tags": []
          },
          "execution_count": 52
        }
      ]
    },
    {
      "cell_type": "code",
      "metadata": {
        "id": "mfxWv3FBGk-N",
        "colab_type": "code",
        "colab": {}
      },
      "source": [
        ""
      ],
      "execution_count": 0,
      "outputs": []
    }
  ]
}