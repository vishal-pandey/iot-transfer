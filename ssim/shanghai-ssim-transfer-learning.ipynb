{
  "nbformat": 4,
  "nbformat_minor": 0,
  "metadata": {
    "colab": {
      "name": "start.ipynb",
      "provenance": [],
      "authorship_tag": "ABX9TyMQhwODn048/drdKeCyhtQy",
      "include_colab_link": true
    },
    "kernelspec": {
      "name": "python3",
      "display_name": "Python 3"
    }
  },
  "cells": [
    {
      "cell_type": "markdown",
      "metadata": {
        "id": "view-in-github",
        "colab_type": "text"
      },
      "source": [
        "<a href=\"https://colab.research.google.com/github/vishal-pandey/iot-transfer/blob/master/ssim/shanghai-ssim-transfer-learning.ipynb\" target=\"_parent\"><img src=\"https://colab.research.google.com/assets/colab-badge.svg\" alt=\"Open In Colab\"/></a>"
      ]
    },
    {
      "cell_type": "code",
      "metadata": {
        "id": "6Ocx9UgSb_2e",
        "colab_type": "code",
        "colab": {}
      },
      "source": [
        "URL_shanghai = \"https://github.com/vishal-pandey/iot-transfer/raw/master/pm25_shanghai.csv\""
      ],
      "execution_count": 0,
      "outputs": []
    },
    {
      "cell_type": "code",
      "metadata": {
        "id": "ngnshPl5Ew7h",
        "colab_type": "code",
        "colab": {}
      },
      "source": [
        "import numpy as np\n",
        "import pandas as pd\n",
        "import matplotlib.pyplot as plt\n",
        "from sklearn.preprocessing import StandardScaler\n",
        "from sklearn.model_selection import train_test_split"
      ],
      "execution_count": 0,
      "outputs": []
    },
    {
      "cell_type": "code",
      "metadata": {
        "id": "ZlC9ClBIgjIW",
        "colab_type": "code",
        "outputId": "1320ea2a-1ca9-4d7e-80ee-41611ed92f74",
        "colab": {
          "base_uri": "https://localhost:8080/",
          "height": 389
        }
      },
      "source": [
        "!pip install keras-self-attention\n",
        "from keras_self_attention import SeqSelfAttention"
      ],
      "execution_count": 3,
      "outputs": [
        {
          "output_type": "stream",
          "text": [
            "Collecting keras-self-attention\n",
            "  Downloading https://files.pythonhosted.org/packages/44/3e/eb1a7c7545eede073ceda2f5d78442b6cad33b5b750d7f0742866907c34b/keras-self-attention-0.42.0.tar.gz\n",
            "Requirement already satisfied: numpy in /usr/local/lib/python3.6/dist-packages (from keras-self-attention) (1.18.1)\n",
            "Requirement already satisfied: Keras in /usr/local/lib/python3.6/dist-packages (from keras-self-attention) (2.2.5)\n",
            "Requirement already satisfied: keras-preprocessing>=1.1.0 in /usr/local/lib/python3.6/dist-packages (from Keras->keras-self-attention) (1.1.0)\n",
            "Requirement already satisfied: keras-applications>=1.0.8 in /usr/local/lib/python3.6/dist-packages (from Keras->keras-self-attention) (1.0.8)\n",
            "Requirement already satisfied: h5py in /usr/local/lib/python3.6/dist-packages (from Keras->keras-self-attention) (2.8.0)\n",
            "Requirement already satisfied: pyyaml in /usr/local/lib/python3.6/dist-packages (from Keras->keras-self-attention) (3.13)\n",
            "Requirement already satisfied: scipy>=0.14 in /usr/local/lib/python3.6/dist-packages (from Keras->keras-self-attention) (1.4.1)\n",
            "Requirement already satisfied: six>=1.9.0 in /usr/local/lib/python3.6/dist-packages (from Keras->keras-self-attention) (1.12.0)\n",
            "Building wheels for collected packages: keras-self-attention\n",
            "  Building wheel for keras-self-attention (setup.py) ... \u001b[?25l\u001b[?25hdone\n",
            "  Created wheel for keras-self-attention: filename=keras_self_attention-0.42.0-cp36-none-any.whl size=17296 sha256=8fbc5aac750dace0b19e152f05676c035f0428e590506426e5320a7d6b37641f\n",
            "  Stored in directory: /root/.cache/pip/wheels/7b/05/a0/99c0cf60d383f0494e10eca2b238ea98faca9a1fe03cac2894\n",
            "Successfully built keras-self-attention\n",
            "Installing collected packages: keras-self-attention\n",
            "Successfully installed keras-self-attention-0.42.0\n"
          ],
          "name": "stdout"
        },
        {
          "output_type": "stream",
          "text": [
            "Using TensorFlow backend.\n"
          ],
          "name": "stderr"
        },
        {
          "output_type": "display_data",
          "data": {
            "text/html": [
              "<p style=\"color: red;\">\n",
              "The default version of TensorFlow in Colab will soon switch to TensorFlow 2.x.<br>\n",
              "We recommend you <a href=\"https://www.tensorflow.org/guide/migrate\" target=\"_blank\">upgrade</a> now \n",
              "or ensure your notebook will continue to use TensorFlow 1.x via the <code>%tensorflow_version 1.x</code> magic:\n",
              "<a href=\"https://colab.research.google.com/notebooks/tensorflow_version.ipynb\" target=\"_blank\">more info</a>.</p>\n"
            ],
            "text/plain": [
              "<IPython.core.display.HTML object>"
            ]
          },
          "metadata": {
            "tags": []
          }
        }
      ]
    },
    {
      "cell_type": "code",
      "metadata": {
        "id": "-duUcT1BEzfm",
        "colab_type": "code",
        "colab": {}
      },
      "source": [
        "df_shanghai = pd.read_csv(URL_shanghai)"
      ],
      "execution_count": 0,
      "outputs": []
    },
    {
      "cell_type": "code",
      "metadata": {
        "id": "mnN8uMefE1om",
        "colab_type": "code",
        "colab": {}
      },
      "source": [
        "pm25_shanghai = df_shanghai.iloc[:, 0].values"
      ],
      "execution_count": 0,
      "outputs": []
    },
    {
      "cell_type": "code",
      "metadata": {
        "id": "UJxigACqE249",
        "colab_type": "code",
        "colab": {}
      },
      "source": [
        "pm25_shanghai = pm25_shanghai.reshape(-1, 1)"
      ],
      "execution_count": 0,
      "outputs": []
    },
    {
      "cell_type": "code",
      "metadata": {
        "id": "nbinjMgtE4Kt",
        "colab_type": "code",
        "colab": {}
      },
      "source": [
        "scaler_shanghai = StandardScaler()\n",
        "scaler_shanghai.fit(pm25_shanghai)\n",
        "pm25_shanghai = scaler_shanghai.transform(pm25_shanghai)"
      ],
      "execution_count": 0,
      "outputs": []
    },
    {
      "cell_type": "code",
      "metadata": {
        "id": "lAwrOESjE5eF",
        "colab_type": "code",
        "colab": {}
      },
      "source": [
        "N = 20\n",
        "O = 5\n",
        "P = 20"
      ],
      "execution_count": 0,
      "outputs": []
    },
    {
      "cell_type": "code",
      "metadata": {
        "id": "4QrShefUE7eR",
        "colab_type": "code",
        "colab": {}
      },
      "source": [
        "X_shanghai = []\n",
        "y_shanghai = []\n",
        "\n",
        "for i in range(len(pm25_shanghai) - (N + O + P)):\n",
        "  temp = []\n",
        "  temp1 = pm25_shanghai[i : i+N]\n",
        "  temp2 = [0 for _ in range(O)]\n",
        "  temp3 = pm25_shanghai[i+N+O : i+N+O+P]\n",
        "  X_shanghai.append(np.append(np.append(temp1, temp2), temp3))\n",
        "  y_shanghai.append(pm25_shanghai[i+N : i+N+O].reshape(O))"
      ],
      "execution_count": 0,
      "outputs": []
    },
    {
      "cell_type": "code",
      "metadata": {
        "id": "-oWbDBllE9cl",
        "colab_type": "code",
        "colab": {}
      },
      "source": [
        "X_shanghai = np.array(X_shanghai)\n",
        "y_shanghai = np.array(y_shanghai)"
      ],
      "execution_count": 0,
      "outputs": []
    },
    {
      "cell_type": "code",
      "metadata": {
        "id": "LE1Kdfv9E_Vd",
        "colab_type": "code",
        "outputId": "7a38f714-58ec-4040-bef0-c02e887ca0fb",
        "colab": {
          "base_uri": "https://localhost:8080/",
          "height": 51
        }
      },
      "source": [
        "print(X_shanghai.shape)\n",
        "print(y_shanghai.shape)"
      ],
      "execution_count": 11,
      "outputs": [
        {
          "output_type": "stream",
          "text": [
            "(555, 45)\n",
            "(555, 5)\n"
          ],
          "name": "stdout"
        }
      ]
    },
    {
      "cell_type": "code",
      "metadata": {
        "id": "OKI0pamAFCtG",
        "colab_type": "code",
        "outputId": "506818fe-4201-4d59-c8dc-5191a554b25e",
        "colab": {
          "base_uri": "https://localhost:8080/",
          "height": 265
        }
      },
      "source": [
        "plt.plot(pm25_shanghai[:500])\n",
        "plt.show()"
      ],
      "execution_count": 12,
      "outputs": [
        {
          "output_type": "display_data",
          "data": {
            "image/png": "[encoded data removed]",
            "text/plain": [
              "<Figure size 432x288 with 1 Axes>"
            ]
          },
          "metadata": {
            "tags": []
          }
        }
      ]
    },
    {
      "cell_type": "code",
      "metadata": {
        "id": "WEztGagjFF5N",
        "colab_type": "code",
        "colab": {}
      },
      "source": [
        "X_shanghai_train, X_shanghai_test, y_shanghai_train, y_shanghai_test = train_test_split(X_shanghai, y_shanghai)"
      ],
      "execution_count": 0,
      "outputs": []
    },
    {
      "cell_type": "code",
      "metadata": {
        "id": "0R2Y4Eg7FIEV",
        "colab_type": "code",
        "colab": {}
      },
      "source": [
        "X_shanghai_train = X_shanghai_train.reshape(X_shanghai_train.shape[0], -1, 1)\n",
        "X_shanghai_test = X_shanghai_test.reshape(X_shanghai_test.shape[0], -1, 1)"
      ],
      "execution_count": 0,
      "outputs": []
    },
    {
      "cell_type": "code",
      "metadata": {
        "id": "HpUBHQ9ZFN2N",
        "colab_type": "code",
        "colab": {}
      },
      "source": [
        "URL_base_model = \"https://raw.githubusercontent.com/vishal-pandey/iot-transfer/master/ssim/pm25_beijing_ssim_model.h5\""
      ],
      "execution_count": 0,
      "outputs": []
    },
    {
      "cell_type": "code",
      "metadata": {
        "id": "qZALvG_xFfZa",
        "colab_type": "code",
        "outputId": "ec524d69-65f5-4449-ae1a-0750e9bf1ecb",
        "colab": {
          "base_uri": "https://localhost:8080/",
          "height": 204
        }
      },
      "source": [
        "!wget $URL_base_model"
      ],
      "execution_count": 16,
      "outputs": [
        {
          "output_type": "stream",
          "text": [
            "--2020-03-19 08:15:47--  https://raw.githubusercontent.com/vishal-pandey/iot-transfer/master/ssim/pm25_beijing_ssim_model.h5\n",
            "Resolving raw.githubusercontent.com (raw.githubusercontent.com)... 151.101.0.133, 151.101.64.133, 151.101.128.133, ...\n",
            "Connecting to raw.githubusercontent.com (raw.githubusercontent.com)|151.101.0.133|:443... connected.\n",
            "HTTP request sent, awaiting response... 200 OK\n",
            "Length: 2833384 (2.7M) [application/octet-stream]\n",
            "Saving to: ‘pm25_beijing_ssim_model.h5’\n",
            "\n",
            "pm25_beijing_ssim_m 100%[===================>]   2.70M  10.3MB/s    in 0.3s    \n",
            "\n",
            "2020-03-19 08:15:49 (10.3 MB/s) - ‘pm25_beijing_ssim_model.h5’ saved [2833384/2833384]\n",
            "\n"
          ],
          "name": "stdout"
        }
      ]
    },
    {
      "cell_type": "code",
      "metadata": {
        "id": "J2c-pwToFjTi",
        "colab_type": "code",
        "outputId": "840a1193-85cf-4b24-c219-e8faee6e61d1",
        "colab": {
          "base_uri": "https://localhost:8080/",
          "height": 530
        }
      },
      "source": [
        "from keras.models import load_model\n",
        "model = load_model('pm25_beijing_ssim_model.h5', {'SeqSelfAttention': SeqSelfAttention})"
      ],
      "execution_count": 17,
      "outputs": [
        {
          "output_type": "stream",
          "text": [
            "WARNING:tensorflow:From /usr/local/lib/python3.6/dist-packages/keras/backend/tensorflow_backend.py:66: The name tf.get_default_graph is deprecated. Please use tf.compat.v1.get_default_graph instead.\n",
            "\n",
            "WARNING:tensorflow:From /usr/local/lib/python3.6/dist-packages/keras/backend/tensorflow_backend.py:541: The name tf.placeholder is deprecated. Please use tf.compat.v1.placeholder instead.\n",
            "\n",
            "WARNING:tensorflow:From /usr/local/lib/python3.6/dist-packages/keras/backend/tensorflow_backend.py:4432: The name tf.random_uniform is deprecated. Please use tf.random.uniform instead.\n",
            "\n",
            "WARNING:tensorflow:From /usr/local/lib/python3.6/dist-packages/keras/backend/tensorflow_backend.py:4479: The name tf.truncated_normal is deprecated. Please use tf.random.truncated_normal instead.\n",
            "\n",
            "WARNING:tensorflow:From /usr/local/lib/python3.6/dist-packages/keras/backend/tensorflow_backend.py:190: The name tf.get_default_session is deprecated. Please use tf.compat.v1.get_default_session instead.\n",
            "\n",
            "WARNING:tensorflow:From /usr/local/lib/python3.6/dist-packages/keras/backend/tensorflow_backend.py:197: The name tf.ConfigProto is deprecated. Please use tf.compat.v1.ConfigProto instead.\n",
            "\n",
            "WARNING:tensorflow:From /usr/local/lib/python3.6/dist-packages/keras/backend/tensorflow_backend.py:203: The name tf.Session is deprecated. Please use tf.compat.v1.Session instead.\n",
            "\n",
            "WARNING:tensorflow:From /usr/local/lib/python3.6/dist-packages/keras/backend/tensorflow_backend.py:207: The name tf.global_variables is deprecated. Please use tf.compat.v1.global_variables instead.\n",
            "\n",
            "WARNING:tensorflow:From /usr/local/lib/python3.6/dist-packages/keras/backend/tensorflow_backend.py:216: The name tf.is_variable_initialized is deprecated. Please use tf.compat.v1.is_variable_initialized instead.\n",
            "\n",
            "WARNING:tensorflow:From /usr/local/lib/python3.6/dist-packages/keras/backend/tensorflow_backend.py:223: The name tf.variables_initializer is deprecated. Please use tf.compat.v1.variables_initializer instead.\n",
            "\n",
            "WARNING:tensorflow:From /usr/local/lib/python3.6/dist-packages/keras/optimizers.py:793: The name tf.train.Optimizer is deprecated. Please use tf.compat.v1.train.Optimizer instead.\n",
            "\n",
            "WARNING:tensorflow:From /tensorflow-1.15.0/python3.6/tensorflow_core/python/ops/math_grad.py:1424: where (from tensorflow.python.ops.array_ops) is deprecated and will be removed in a future version.\n",
            "Instructions for updating:\n",
            "Use tf.where in 2.0, which has the same broadcast rule as np.where\n",
            "WARNING:tensorflow:From /usr/local/lib/python3.6/dist-packages/keras/backend/tensorflow_backend.py:1033: The name tf.assign_add is deprecated. Please use tf.compat.v1.assign_add instead.\n",
            "\n",
            "WARNING:tensorflow:From /usr/local/lib/python3.6/dist-packages/keras/backend/tensorflow_backend.py:1020: The name tf.assign is deprecated. Please use tf.compat.v1.assign instead.\n",
            "\n"
          ],
          "name": "stdout"
        }
      ]
    },
    {
      "cell_type": "code",
      "metadata": {
        "id": "3wQHCySRF-RZ",
        "colab_type": "code",
        "outputId": "c23be73b-e41b-42c6-d98d-bb5df2cfca16",
        "colab": {
          "base_uri": "https://localhost:8080/",
          "height": 289
        }
      },
      "source": [
        "model.summary()"
      ],
      "execution_count": 18,
      "outputs": [
        {
          "output_type": "stream",
          "text": [
            "Model: \"sequential_4\"\n",
            "_________________________________________________________________\n",
            "Layer (type)                 Output Shape              Param #   \n",
            "=================================================================\n",
            "bidirectional_4 (Bidirection (None, 45, 256)           133120    \n",
            "_________________________________________________________________\n",
            "seq_self_attention_4 (SeqSel (None, 45, 256)           16449     \n",
            "_________________________________________________________________\n",
            "lstm_8 (LSTM)                (None, 64)                82176     \n",
            "_________________________________________________________________\n",
            "dense_4 (Dense)              (None, 5)                 325       \n",
            "=================================================================\n",
            "Total params: 232,070\n",
            "Trainable params: 232,070\n",
            "Non-trainable params: 0\n",
            "_________________________________________________________________\n"
          ],
          "name": "stdout"
        }
      ]
    },
    {
      "cell_type": "code",
      "metadata": {
        "id": "sVMidY2gGgO2",
        "colab_type": "code",
        "outputId": "8591c13e-4f15-4b7f-c5bf-8f474532ee2d",
        "colab": {
          "base_uri": "https://localhost:8080/",
          "height": 731
        }
      },
      "source": [
        "model.fit(X_shanghai_train, y_shanghai_train, epochs=20, validation_data=(X_shanghai_test, y_shanghai_test))"
      ],
      "execution_count": 19,
      "outputs": [
        {
          "output_type": "stream",
          "text": [
            "Train on 416 samples, validate on 139 samples\n",
            "Epoch 1/20\n",
            "416/416 [==============================] - 5s 12ms/step - loss: 0.0486 - val_loss: 0.0483\n",
            "Epoch 2/20\n",
            "416/416 [==============================] - 2s 6ms/step - loss: 0.0415 - val_loss: 0.0396\n",
            "Epoch 3/20\n",
            "416/416 [==============================] - 2s 6ms/step - loss: 0.0336 - val_loss: 0.0382\n",
            "Epoch 4/20\n",
            "416/416 [==============================] - 2s 6ms/step - loss: 0.0312 - val_loss: 0.0353\n",
            "Epoch 5/20\n",
            "416/416 [==============================] - 2s 6ms/step - loss: 0.0300 - val_loss: 0.0343\n",
            "Epoch 6/20\n",
            "416/416 [==============================] - 2s 6ms/step - loss: 0.0289 - val_loss: 0.0327\n",
            "Epoch 7/20\n",
            "416/416 [==============================] - 2s 6ms/step - loss: 0.0286 - val_loss: 0.0343\n",
            "Epoch 8/20\n",
            "416/416 [==============================] - 2s 6ms/step - loss: 0.0280 - val_loss: 0.0338\n",
            "Epoch 9/20\n",
            "416/416 [==============================] - 2s 6ms/step - loss: 0.0276 - val_loss: 0.0323\n",
            "Epoch 10/20\n",
            "416/416 [==============================] - 2s 6ms/step - loss: 0.0268 - val_loss: 0.0328\n",
            "Epoch 11/20\n",
            "416/416 [==============================] - 2s 6ms/step - loss: 0.0260 - val_loss: 0.0312\n",
            "Epoch 12/20\n",
            "416/416 [==============================] - 2s 6ms/step - loss: 0.0258 - val_loss: 0.0314\n",
            "Epoch 13/20\n",
            "416/416 [==============================] - 2s 6ms/step - loss: 0.0254 - val_loss: 0.0311\n",
            "Epoch 14/20\n",
            "416/416 [==============================] - 2s 6ms/step - loss: 0.0253 - val_loss: 0.0314\n",
            "Epoch 15/20\n",
            "416/416 [==============================] - 2s 6ms/step - loss: 0.0253 - val_loss: 0.0335\n",
            "Epoch 16/20\n",
            "416/416 [==============================] - 2s 6ms/step - loss: 0.0251 - val_loss: 0.0341\n",
            "Epoch 17/20\n",
            "416/416 [==============================] - 2s 6ms/step - loss: 0.0262 - val_loss: 0.0325\n",
            "Epoch 18/20\n",
            "416/416 [==============================] - 2s 6ms/step - loss: 0.0252 - val_loss: 0.0311\n",
            "Epoch 19/20\n",
            "416/416 [==============================] - 2s 6ms/step - loss: 0.0250 - val_loss: 0.0333\n",
            "Epoch 20/20\n",
            "416/416 [==============================] - 2s 6ms/step - loss: 0.0241 - val_loss: 0.0331\n"
          ],
          "name": "stdout"
        },
        {
          "output_type": "execute_result",
          "data": {
            "text/plain": [
              "<keras.callbacks.History at 0x7f5fcb6110b8>"
            ]
          },
          "metadata": {
            "tags": []
          },
          "execution_count": 19
        }
      ]
    },
    {
      "cell_type": "code",
      "metadata": {
        "id": "mfxWv3FBGk-N",
        "colab_type": "code",
        "outputId": "32e6dd76-e941-4fb0-8abd-a3029d3c8fa7",
        "colab": {
          "base_uri": "https://localhost:8080/",
          "height": 265
        }
      },
      "source": [
        "plt.plot(model.history.history['loss'], 'r.-', label=\"Training Loss\")\n",
        "plt.plot(model.history.history['val_loss'], 'g.-', label=\"Validation Loss\")\n",
        "plt.legend()\n",
        "plt.show()"
      ],
      "execution_count": 20,
      "outputs": [
        {
          "output_type": "display_data",
          "data": {
            "image/png": "[encoded data removed]",
            "text/plain": [
              "<Figure size 432x288 with 1 Axes>"
            ]
          },
          "metadata": {
            "tags": []
          }
        }
      ]
    },
    {
      "cell_type": "code",
      "metadata": {
        "id": "b5bwV3tyhYz5",
        "colab_type": "code",
        "colab": {}
      },
      "source": [
        "y_hat = model.predict(X_shanghai_test)"
      ],
      "execution_count": 0,
      "outputs": []
    },
    {
      "cell_type": "code",
      "metadata": {
        "id": "RvNCDG_3hlpq",
        "colab_type": "code",
        "outputId": "afcdc3a8-fac8-469f-f5aa-223244424450",
        "colab": {
          "base_uri": "https://localhost:8080/",
          "height": 295
        }
      },
      "source": [
        "plt.title(\"Actual vs Predicted\")\n",
        "plt.plot(y_hat[:, 0], label=\"Predicted\")\n",
        "plt.plot(y_shanghai_test[:, 0], label=\"Actual\")\n",
        "plt.xlabel(\"Time Index\")\n",
        "plt.ylabel(\"PM2.5\")\n",
        "plt.legend()\n",
        "plt.show()"
      ],
      "execution_count": 22,
      "outputs": [
        {
          "output_type": "display_data",
          "data": {
            "image/png": "[encoded data removed]",
            "text/plain": [
              "<Figure size 432x288 with 1 Axes>"
            ]
          },
          "metadata": {
            "tags": []
          }
        }
      ]
    },
    {
      "cell_type": "code",
      "metadata": {
        "id": "Bar1HidihpQ5",
        "colab_type": "code",
        "colab": {}
      },
      "source": [
        ""
      ],
      "execution_count": 0,
      "outputs": []
    }
  ]
}