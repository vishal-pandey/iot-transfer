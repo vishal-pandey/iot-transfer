{
  "nbformat": 4,
  "nbformat_minor": 0,
  "metadata": {
    "colab": {
      "name": "start.ipynb",
      "provenance": [],
      "authorship_tag": "ABX9TyOTRAzE4zAqHrORazEDXafv",
      "include_colab_link": true
    },
    "kernelspec": {
      "name": "python3",
      "display_name": "Python 3"
    },
    "accelerator": "GPU"
  },
  "cells": [
    {
      "cell_type": "markdown",
      "metadata": {
        "id": "view-in-github",
        "colab_type": "text"
      },
      "source": [
        "<a href=\"https://colab.research.google.com/github/vishal-pandey/iot-transfer/blob/master/beijing-ssim-training.ipynb\" target=\"_parent\"><img src=\"https://colab.research.google.com/assets/colab-badge.svg\" alt=\"Open In Colab\"/></a>"
      ]
    },
    {
      "cell_type": "code",
      "metadata": {
        "id": "6Ocx9UgSb_2e",
        "colab_type": "code",
        "colab": {}
      },
      "source": [
        "URL_beijing = \"https://github.com/vishal-pandey/iot-transfer/raw/master/pm25_beijing.csv\""
      ],
      "execution_count": 0,
      "outputs": []
    },
    {
      "cell_type": "code",
      "metadata": {
        "id": "Hr4i8wYLxxPj",
        "colab_type": "code",
        "colab": {}
      },
      "source": [
        "import numpy as np\n",
        "import pandas as pd\n",
        "import matplotlib.pyplot as plt\n",
        "from sklearn.preprocessing import StandardScaler\n",
        "from sklearn.model_selection import train_test_split"
      ],
      "execution_count": 0,
      "outputs": []
    },
    {
      "cell_type": "code",
      "metadata": {
        "id": "Od3l4hQYx4RJ",
        "colab_type": "code",
        "colab": {}
      },
      "source": [
        "df_beijing = pd.read_csv(URL_beijing)"
      ],
      "execution_count": 0,
      "outputs": []
    },
    {
      "cell_type": "code",
      "metadata": {
        "id": "9klrC2JEyGGv",
        "colab_type": "code",
        "colab": {}
      },
      "source": [
        "pm25_beijing = df_beijing.iloc[:, 0].values"
      ],
      "execution_count": 0,
      "outputs": []
    },
    {
      "cell_type": "code",
      "metadata": {
        "id": "c_fsGDNY5eO3",
        "colab_type": "code",
        "colab": {}
      },
      "source": [
        "pm25_beijing = pm25_beijing.reshape(-1, 1)"
      ],
      "execution_count": 0,
      "outputs": []
    },
    {
      "cell_type": "code",
      "metadata": {
        "id": "7vZSMOSE5Ptv",
        "colab_type": "code",
        "colab": {}
      },
      "source": [
        "scaler_beijing = StandardScaler()\n",
        "scaler_beijing.fit(pm25_beijing)\n",
        "pm25_beijing = scaler_beijing.transform(pm25_beijing)"
      ],
      "execution_count": 0,
      "outputs": []
    },
    {
      "cell_type": "code",
      "metadata": {
        "id": "wlVFAjGuxnan",
        "colab_type": "code",
        "colab": {}
      },
      "source": [
        "N = 20\n",
        "O = 5\n",
        "P = 20"
      ],
      "execution_count": 0,
      "outputs": []
    },
    {
      "cell_type": "code",
      "metadata": {
        "id": "9RavcPoaxuqd",
        "colab_type": "code",
        "colab": {}
      },
      "source": [
        "X_beijing = []\n",
        "y_beijing = []\n",
        "\n",
        "for i in range(len(pm25_beijing) - (N + O + P)):\n",
        "  temp = []\n",
        "  temp1 = pm25_beijing[i : i+N]\n",
        "  temp2 = [0 for _ in range(O)]\n",
        "  temp3 = pm25_beijing[i+N+O : i+N+O+P]\n",
        "  X_beijing.append(np.append(np.append(temp1, temp2), temp3))\n",
        "  y_beijing.append(pm25_beijing[i+N : i+N+O].reshape(O))"
      ],
      "execution_count": 0,
      "outputs": []
    },
    {
      "cell_type": "code",
      "metadata": {
        "id": "nP79lTb6ylGa",
        "colab_type": "code",
        "colab": {}
      },
      "source": [
        "X_beijing = np.array(X_beijing)\n",
        "y_beijing = np.array(y_beijing)"
      ],
      "execution_count": 0,
      "outputs": []
    },
    {
      "cell_type": "code",
      "metadata": {
        "id": "8IMH6Ik5yqG0",
        "colab_type": "code",
        "outputId": "7976c0ba-c3af-4b30-a793-3f2cdc4170f0",
        "colab": {
          "base_uri": "https://localhost:8080/",
          "height": 51
        }
      },
      "source": [
        "print(X_beijing.shape)\n",
        "print(y_beijing.shape)"
      ],
      "execution_count": 10,
      "outputs": [
        {
          "output_type": "stream",
          "text": [
            "(41712, 45)\n",
            "(41712, 5)\n"
          ],
          "name": "stdout"
        }
      ]
    },
    {
      "cell_type": "code",
      "metadata": {
        "id": "oCtlKdOfywbB",
        "colab_type": "code",
        "outputId": "db960a10-4eca-415b-c229-b707b8c3dd51",
        "colab": {
          "base_uri": "https://localhost:8080/",
          "height": 265
        }
      },
      "source": [
        "plt.plot(pm25_beijing[:500])\n",
        "plt.show()"
      ],
      "execution_count": 11,
      "outputs": [
        {
          "output_type": "display_data",
          "data": {
            "image/png": "[encoded data removed]",
            "text/plain": [
              "<Figure size 432x288 with 1 Axes>"
            ]
          },
          "metadata": {
            "tags": []
          }
        }
      ]
    },
    {
      "cell_type": "code",
      "metadata": {
        "id": "QCrc304w1Es_",
        "colab_type": "code",
        "colab": {}
      },
      "source": [
        "X_beijing_train, X_beijing_test, y_beijing_train, y_beijing_test = train_test_split(X_beijing, y_beijing)"
      ],
      "execution_count": 0,
      "outputs": []
    },
    {
      "cell_type": "code",
      "metadata": {
        "id": "lBSIOVLU4GzT",
        "colab_type": "code",
        "colab": {}
      },
      "source": [
        "X_beijing_train = X_beijing_train.reshape(X_beijing_train.shape[0], -1, 1)\n",
        "X_beijing_test = X_beijing_test.reshape(X_beijing_test.shape[0], -1, 1)"
      ],
      "execution_count": 0,
      "outputs": []
    },
    {
      "cell_type": "code",
      "metadata": {
        "id": "MbxPYS8oIT2l",
        "colab_type": "code",
        "colab": {
          "base_uri": "https://localhost:8080/",
          "height": 389
        },
        "outputId": "a88a6859-b30e-4353-c8d7-b0f8a7639138"
      },
      "source": [
        "!pip install keras-self-attention\n",
        "from keras_self_attention import SeqSelfAttention"
      ],
      "execution_count": 14,
      "outputs": [
        {
          "output_type": "stream",
          "text": [
            "Collecting keras-self-attention\n",
            "  Downloading https://files.pythonhosted.org/packages/44/3e/eb1a7c7545eede073ceda2f5d78442b6cad33b5b750d7f0742866907c34b/keras-self-attention-0.42.0.tar.gz\n",
            "Requirement already satisfied: numpy in /usr/local/lib/python3.6/dist-packages (from keras-self-attention) (1.17.5)\n",
            "Requirement already satisfied: Keras in /usr/local/lib/python3.6/dist-packages (from keras-self-attention) (2.2.5)\n",
            "Requirement already satisfied: six>=1.9.0 in /usr/local/lib/python3.6/dist-packages (from Keras->keras-self-attention) (1.12.0)\n",
            "Requirement already satisfied: keras-applications>=1.0.8 in /usr/local/lib/python3.6/dist-packages (from Keras->keras-self-attention) (1.0.8)\n",
            "Requirement already satisfied: scipy>=0.14 in /usr/local/lib/python3.6/dist-packages (from Keras->keras-self-attention) (1.4.1)\n",
            "Requirement already satisfied: pyyaml in /usr/local/lib/python3.6/dist-packages (from Keras->keras-self-attention) (3.13)\n",
            "Requirement already satisfied: keras-preprocessing>=1.1.0 in /usr/local/lib/python3.6/dist-packages (from Keras->keras-self-attention) (1.1.0)\n",
            "Requirement already satisfied: h5py in /usr/local/lib/python3.6/dist-packages (from Keras->keras-self-attention) (2.8.0)\n",
            "Building wheels for collected packages: keras-self-attention\n",
            "  Building wheel for keras-self-attention (setup.py) ... \u001b[?25l\u001b[?25hdone\n",
            "  Created wheel for keras-self-attention: filename=keras_self_attention-0.42.0-cp36-none-any.whl size=17296 sha256=7616c240a0b0fdff4382b5fe7102de7b696e0396338df06ee752071b41d862de\n",
            "  Stored in directory: /root/.cache/pip/wheels/7b/05/a0/99c0cf60d383f0494e10eca2b238ea98faca9a1fe03cac2894\n",
            "Successfully built keras-self-attention\n",
            "Installing collected packages: keras-self-attention\n",
            "Successfully installed keras-self-attention-0.42.0\n"
          ],
          "name": "stdout"
        },
        {
          "output_type": "stream",
          "text": [
            "Using TensorFlow backend.\n"
          ],
          "name": "stderr"
        },
        {
          "output_type": "display_data",
          "data": {
            "text/html": [
              "<p style=\"color: red;\">\n",
              "The default version of TensorFlow in Colab will soon switch to TensorFlow 2.x.<br>\n",
              "We recommend you <a href=\"https://www.tensorflow.org/guide/migrate\" target=\"_blank\">upgrade</a> now \n",
              "or ensure your notebook will continue to use TensorFlow 1.x via the <code>%tensorflow_version 1.x</code> magic:\n",
              "<a href=\"https://colab.research.google.com/notebooks/tensorflow_version.ipynb\" target=\"_blank\">more info</a>.</p>\n"
            ],
            "text/plain": [
              "<IPython.core.display.HTML object>"
            ]
          },
          "metadata": {
            "tags": []
          }
        }
      ]
    },
    {
      "cell_type": "code",
      "metadata": {
        "id": "9rqFMoEA6Umt",
        "colab_type": "code",
        "colab": {}
      },
      "source": [
        "from keras.layers import LSTM, Bidirectional, Dropout\n",
        "from keras.models import Sequential\n",
        "from keras.layers import Dense, Flatten\n",
        "from keras.layers.convolutional import Conv1D, Conv2D, MaxPooling1D, MaxPooling2D"
      ],
      "execution_count": 0,
      "outputs": []
    },
    {
      "cell_type": "code",
      "metadata": {
        "id": "rknCy70U7IRB",
        "colab_type": "code",
        "outputId": "ee094171-7fd6-43ac-8ece-9ba46dc56026",
        "colab": {
          "base_uri": "https://localhost:8080/",
          "height": 34
        }
      },
      "source": [
        "X_beijing_train.shape"
      ],
      "execution_count": 16,
      "outputs": [
        {
          "output_type": "execute_result",
          "data": {
            "text/plain": [
              "(31284, 45, 1)"
            ]
          },
          "metadata": {
            "tags": []
          },
          "execution_count": 16
        }
      ]
    },
    {
      "cell_type": "code",
      "metadata": {
        "id": "2F7jBnIH7CxY",
        "colab_type": "code",
        "colab": {}
      },
      "source": [
        "model = Sequential()\n",
        "model.add(Bidirectional(LSTM(128, return_sequences=True), input_shape=(X_beijing_train.shape[1],X_beijing_train.shape[2])))\n",
        "model.add(SeqSelfAttention(attention_activation='sigmoid'))\n",
        "model.add(LSTM(64))\n",
        "model.add(Dense(O))\n",
        "model.compile(optimizer='adam', loss='mse')"
      ],
      "execution_count": 0,
      "outputs": []
    },
    {
      "cell_type": "code",
      "metadata": {
        "id": "xGPOX6Ss7PV4",
        "colab_type": "code",
        "outputId": "069f9250-6781-498f-d290-e1f603f4aa5b",
        "colab": {
          "base_uri": "https://localhost:8080/",
          "height": 731
        }
      },
      "source": [
        "model.fit(X_beijing_train, y_beijing_train, epochs=20, validation_data=(X_beijing_test, y_beijing_test)) "
      ],
      "execution_count": 22,
      "outputs": [
        {
          "output_type": "stream",
          "text": [
            "Train on 31284 samples, validate on 10428 samples\n",
            "Epoch 1/20\n",
            "31284/31284 [==============================] - 272s 9ms/step - loss: 0.2799 - val_loss: 0.1851\n",
            "Epoch 2/20\n",
            "31284/31284 [==============================] - 267s 9ms/step - loss: 0.1695 - val_loss: 0.1416\n",
            "Epoch 3/20\n",
            "31284/31284 [==============================] - 266s 9ms/step - loss: 0.1447 - val_loss: 0.1438\n",
            "Epoch 4/20\n",
            "31284/31284 [==============================] - 264s 8ms/step - loss: 0.1347 - val_loss: 0.1442\n",
            "Epoch 5/20\n",
            "31284/31284 [==============================] - 268s 9ms/step - loss: 0.1339 - val_loss: 0.1178\n",
            "Epoch 6/20\n",
            "31284/31284 [==============================] - 268s 9ms/step - loss: 0.1236 - val_loss: 0.1229\n",
            "Epoch 7/20\n",
            "31284/31284 [==============================] - 264s 8ms/step - loss: 0.1186 - val_loss: 0.1065\n",
            "Epoch 8/20\n",
            "31284/31284 [==============================] - 263s 8ms/step - loss: 0.1133 - val_loss: 0.1098\n",
            "Epoch 9/20\n",
            "31284/31284 [==============================] - 265s 8ms/step - loss: 0.1111 - val_loss: 0.1010\n",
            "Epoch 10/20\n",
            "31284/31284 [==============================] - 265s 8ms/step - loss: 0.1098 - val_loss: 0.1050\n",
            "Epoch 11/20\n",
            "31284/31284 [==============================] - 273s 9ms/step - loss: 0.1051 - val_loss: 0.1170\n",
            "Epoch 12/20\n",
            "31284/31284 [==============================] - 276s 9ms/step - loss: 0.1031 - val_loss: 0.1092\n",
            "Epoch 13/20\n",
            "31284/31284 [==============================] - 275s 9ms/step - loss: 0.1051 - val_loss: 0.0951\n",
            "Epoch 14/20\n",
            "31284/31284 [==============================] - 276s 9ms/step - loss: 0.1004 - val_loss: 0.0927\n",
            "Epoch 15/20\n",
            "31284/31284 [==============================] - 277s 9ms/step - loss: 0.1001 - val_loss: 0.0982\n",
            "Epoch 16/20\n",
            "31284/31284 [==============================] - 277s 9ms/step - loss: 0.0984 - val_loss: 0.1043\n",
            "Epoch 17/20\n",
            "31284/31284 [==============================] - 274s 9ms/step - loss: 0.0993 - val_loss: 0.0980\n",
            "Epoch 18/20\n",
            "31284/31284 [==============================] - 280s 9ms/step - loss: 0.0943 - val_loss: 0.0927\n",
            "Epoch 19/20\n",
            "31284/31284 [==============================] - 280s 9ms/step - loss: 0.0958 - val_loss: 0.0887\n",
            "Epoch 20/20\n",
            "31284/31284 [==============================] - 276s 9ms/step - loss: 0.0944 - val_loss: 0.0898\n"
          ],
          "name": "stdout"
        },
        {
          "output_type": "execute_result",
          "data": {
            "text/plain": [
              "<keras.callbacks.History at 0x7fde30c5b8d0>"
            ]
          },
          "metadata": {
            "tags": []
          },
          "execution_count": 22
        }
      ]
    },
    {
      "cell_type": "code",
      "metadata": {
        "id": "5v93IlfC7q85",
        "colab_type": "code",
        "outputId": "3d490a19-0744-49b8-a7ef-9f76ee4d9a1a",
        "colab": {
          "base_uri": "https://localhost:8080/",
          "height": 265
        }
      },
      "source": [
        "plt.plot(model.history.history['loss'], 'r.-', label=\"Training Loss\")\n",
        "plt.plot(model.history.history['val_loss'], 'g.-', label=\"Validation Loss\")\n",
        "plt.legend()\n",
        "plt.show()"
      ],
      "execution_count": 23,
      "outputs": [
        {
          "output_type": "display_data",
          "data": {
            "image/png": "[encoded data removed]",
            "text/plain": [
              "<Figure size 432x288 with 1 Axes>"
            ]
          },
          "metadata": {
            "tags": []
          }
        }
      ]
    },
    {
      "cell_type": "code",
      "metadata": {
        "id": "WObUhn-DAs5D",
        "colab_type": "code",
        "colab": {}
      },
      "source": [
        "# plt.plot(model.history.history['acc'], 'r.-', label=\"Training Accuracy\")\n",
        "# plt.plot(model.history.history['val_acc'], 'g.-', label=\"Validation Accuracy\")\n",
        "# plt.legend()\n",
        "# plt.show()"
      ],
      "execution_count": 0,
      "outputs": []
    },
    {
      "cell_type": "code",
      "metadata": {
        "id": "7P2103UQ9Cyx",
        "colab_type": "code",
        "colab": {}
      },
      "source": [
        "model.save('pm25_beijing_ssim_model.h5')"
      ],
      "execution_count": 0,
      "outputs": []
    },
    {
      "cell_type": "code",
      "metadata": {
        "id": "E_mrjhlC9Vlb",
        "colab_type": "code",
        "colab": {}
      },
      "source": [
        ""
      ],
      "execution_count": 0,
      "outputs": []
    }
  ]
}